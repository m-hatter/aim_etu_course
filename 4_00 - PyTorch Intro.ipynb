{
 "cells": [
  {
   "cell_type": "code",
   "execution_count": 1,
   "id": "7156574e-239a-494d-a333-1692c82174e5",
   "metadata": {},
   "outputs": [],
   "source": [
    "import torch"
   ]
  },
  {
   "cell_type": "markdown",
   "id": "678a9b22-7dfc-46a5-89f6-672030e94194",
   "metadata": {},
   "source": [
    "## Тензоры и операции над ними"
   ]
  },
  {
   "cell_type": "code",
   "execution_count": 2,
   "id": "c6f76473-26dd-4e6f-9f9c-271779e573bb",
   "metadata": {},
   "outputs": [],
   "source": [
    "t = torch.tensor([1],\n",
    "                 dtype=torch.float32)"
   ]
  },
  {
   "cell_type": "code",
   "execution_count": 3,
   "id": "978d3a0f-7978-448a-bbd3-f6e199119a41",
   "metadata": {},
   "outputs": [],
   "source": [
    "a = torch.tensor([[1, 2]], dtype=torch.float32)\n",
    "b = torch.tensor([[3, 4]], dtype=torch.float32)"
   ]
  },
  {
   "cell_type": "code",
   "execution_count": 4,
   "id": "9ed4f91c-91d4-4cfe-a1eb-c449fb701da4",
   "metadata": {},
   "outputs": [
    {
     "data": {
      "text/plain": [
       "torch.Size([1, 2])"
      ]
     },
     "execution_count": 4,
     "metadata": {},
     "output_type": "execute_result"
    }
   ],
   "source": [
    "a.shape"
   ]
  },
  {
   "cell_type": "markdown",
   "id": "0aae479a-c599-44b9-a3a9-e12a77c5bde8",
   "metadata": {},
   "source": [
    "### Арифметика"
   ]
  },
  {
   "cell_type": "code",
   "execution_count": 5,
   "id": "a94e7edf-b2b5-4ce8-bf34-c734a2ad37b9",
   "metadata": {},
   "outputs": [
    {
     "data": {
      "text/plain": [
       "tensor([[4., 6.]])"
      ]
     },
     "execution_count": 5,
     "metadata": {},
     "output_type": "execute_result"
    }
   ],
   "source": [
    "a + b"
   ]
  },
  {
   "cell_type": "code",
   "execution_count": 6,
   "id": "a03a5546-650d-4b9c-8cf1-5275a36f3eac",
   "metadata": {},
   "outputs": [
    {
     "data": {
      "text/plain": [
       "tensor([[3., 8.]])"
      ]
     },
     "execution_count": 6,
     "metadata": {},
     "output_type": "execute_result"
    }
   ],
   "source": [
    "a * b"
   ]
  },
  {
   "cell_type": "code",
   "execution_count": 7,
   "id": "ea61d1c4-6103-487d-a394-07b909f93841",
   "metadata": {},
   "outputs": [
    {
     "data": {
      "text/plain": [
       "tensor([[11.]])"
      ]
     },
     "execution_count": 7,
     "metadata": {},
     "output_type": "execute_result"
    }
   ],
   "source": [
    "a @ b.T"
   ]
  },
  {
   "cell_type": "code",
   "execution_count": 8,
   "id": "02be7841-28e0-4aec-8feb-fe6da74cc576",
   "metadata": {},
   "outputs": [
    {
     "data": {
      "text/plain": [
       "tensor([[11.]])"
      ]
     },
     "execution_count": 8,
     "metadata": {},
     "output_type": "execute_result"
    }
   ],
   "source": [
    "torch.matmul(a, b.T)"
   ]
  },
  {
   "cell_type": "code",
   "execution_count": 9,
   "id": "ba4f3573-d039-48e2-9c1f-67558d9d0cf2",
   "metadata": {},
   "outputs": [
    {
     "data": {
      "text/plain": [
       "tensor(3.)"
      ]
     },
     "execution_count": 9,
     "metadata": {},
     "output_type": "execute_result"
    }
   ],
   "source": [
    "torch.sum(a)"
   ]
  },
  {
   "cell_type": "markdown",
   "id": "c8a37f28-dbcc-4c4a-9de6-5e29bf672622",
   "metadata": {},
   "source": [
    "## Автоматическое дифференцирование"
   ]
  },
  {
   "cell_type": "code",
   "execution_count": 10,
   "id": "9800a180-864d-4f91-aa26-328900454840",
   "metadata": {},
   "outputs": [],
   "source": [
    "def foo(x: torch.Tensor) -> torch.Tensor:\n",
    "    return torch.sum(torch.abs(x - 2))"
   ]
  },
  {
   "cell_type": "code",
   "execution_count": 11,
   "id": "b652096c-2768-4ff9-a545-65ef55e505e6",
   "metadata": {},
   "outputs": [],
   "source": [
    "tunable_a = torch.tensor([[1.0, 2.0]], requires_grad=True)"
   ]
  },
  {
   "cell_type": "code",
   "execution_count": 12,
   "id": "1047551c-6824-4bbc-9944-b6bcde54b340",
   "metadata": {},
   "outputs": [
    {
     "data": {
      "text/plain": [
       "tensor([[1., 2.]], requires_grad=True)"
      ]
     },
     "execution_count": 12,
     "metadata": {},
     "output_type": "execute_result"
    }
   ],
   "source": [
    "tunable_a"
   ]
  },
  {
   "cell_type": "code",
   "execution_count": 13,
   "id": "1bf80fdc-9d72-4fcc-9189-a6f6ff0dc1ed",
   "metadata": {},
   "outputs": [],
   "source": [
    "r = foo(tunable_a)"
   ]
  },
  {
   "cell_type": "code",
   "execution_count": 14,
   "id": "2d58d597-20f5-483c-a3db-dd6adf10d6c0",
   "metadata": {},
   "outputs": [
    {
     "data": {
      "text/plain": [
       "tensor(1., grad_fn=<SumBackward0>)"
      ]
     },
     "execution_count": 14,
     "metadata": {},
     "output_type": "execute_result"
    }
   ],
   "source": [
    "r"
   ]
  },
  {
   "cell_type": "code",
   "execution_count": 15,
   "id": "a8dd780f-7236-4269-89cc-efe33afdaa89",
   "metadata": {},
   "outputs": [],
   "source": [
    "r.backward()"
   ]
  },
  {
   "cell_type": "code",
   "execution_count": 16,
   "id": "53dad9be-5ff1-4a9e-bc7e-1f52048d2024",
   "metadata": {},
   "outputs": [
    {
     "data": {
      "text/plain": [
       "tensor([[-1.,  0.]])"
      ]
     },
     "execution_count": 16,
     "metadata": {},
     "output_type": "execute_result"
    }
   ],
   "source": [
    "tunable_a.grad"
   ]
  },
  {
   "cell_type": "markdown",
   "id": "0fd1e072-41ef-4b10-b6d9-357bba8b9dc1",
   "metadata": {},
   "source": [
    "## Градиентный спуск"
   ]
  },
  {
   "cell_type": "code",
   "execution_count": 17,
   "id": "a8aeafb1-6553-49cd-b78c-6beb32d2e054",
   "metadata": {},
   "outputs": [],
   "source": [
    "def mismatch(expected: torch.Tensor, x: torch.Tensor) -> torch.Tensor:\n",
    "    return torch.sum((expected - x) ** 2)"
   ]
  },
  {
   "cell_type": "code",
   "execution_count": 18,
   "id": "11d1beee-017e-4d62-862c-19c593dc0ebb",
   "metadata": {},
   "outputs": [],
   "source": [
    "etalon = torch.tensor([[1.0, 2.0]], dtype=torch.float32)\n",
    "x = torch.tensor([[1.5, 4.0]],\n",
    "                 requires_grad=True,\n",
    "                 dtype=torch.float32)"
   ]
  },
  {
   "cell_type": "code",
   "execution_count": 19,
   "id": "23f727ca-9b65-4051-81cb-4b14bca22811",
   "metadata": {},
   "outputs": [
    {
     "data": {
      "text/plain": [
       "tensor(4.2500, grad_fn=<SumBackward0>)"
      ]
     },
     "execution_count": 19,
     "metadata": {},
     "output_type": "execute_result"
    }
   ],
   "source": [
    "mismatch(etalon, x)"
   ]
  },
  {
   "cell_type": "code",
   "execution_count": 20,
   "id": "c3f79b59-57cf-412d-95d3-3b7bff6717ee",
   "metadata": {},
   "outputs": [],
   "source": [
    "q = mismatch(etalon, x)"
   ]
  },
  {
   "cell_type": "code",
   "execution_count": 21,
   "id": "823b0c3c-66bd-4a3e-8485-d213d17e5838",
   "metadata": {},
   "outputs": [],
   "source": [
    "q.backward()"
   ]
  },
  {
   "cell_type": "code",
   "execution_count": 22,
   "id": "ac7f7804-2375-4c1a-a006-7dc5e32389bf",
   "metadata": {},
   "outputs": [
    {
     "data": {
      "text/plain": [
       "tensor([[1., 2.]])"
      ]
     },
     "execution_count": 22,
     "metadata": {},
     "output_type": "execute_result"
    }
   ],
   "source": [
    "etalon"
   ]
  },
  {
   "cell_type": "code",
   "execution_count": 23,
   "id": "93408749-ecdc-4d32-9b4e-3dcbb6072821",
   "metadata": {},
   "outputs": [
    {
     "data": {
      "text/plain": [
       "tensor([[1., 4.]])"
      ]
     },
     "execution_count": 23,
     "metadata": {},
     "output_type": "execute_result"
    }
   ],
   "source": [
    "x.grad"
   ]
  },
  {
   "cell_type": "code",
   "execution_count": 24,
   "id": "668a8062-a0be-49c9-9abd-985edf4c921b",
   "metadata": {},
   "outputs": [],
   "source": [
    "# НЕ x = x - x.grad * 0.1\n",
    "x.data = x.data - x.grad.data * 0.1"
   ]
  },
  {
   "cell_type": "code",
   "execution_count": 25,
   "id": "5e3a4840-b363-4b82-865b-7e8aaecb6d96",
   "metadata": {},
   "outputs": [
    {
     "data": {
      "text/plain": [
       "tensor([[1.4000, 3.6000]], requires_grad=True)"
      ]
     },
     "execution_count": 25,
     "metadata": {},
     "output_type": "execute_result"
    }
   ],
   "source": [
    "x"
   ]
  },
  {
   "cell_type": "code",
   "execution_count": 26,
   "id": "bf36273e-a9ac-4809-8f2e-96fe0c20ec74",
   "metadata": {},
   "outputs": [
    {
     "data": {
      "text/plain": [
       "tensor([[1., 4.]])"
      ]
     },
     "execution_count": 26,
     "metadata": {},
     "output_type": "execute_result"
    }
   ],
   "source": [
    "x.grad"
   ]
  },
  {
   "cell_type": "code",
   "execution_count": 27,
   "id": "d7707257-b819-41f3-8d52-67e46a1a03a8",
   "metadata": {},
   "outputs": [],
   "source": [
    "def gradient_descent(etalon, x, n_steps, alpha=0.1):\n",
    "    for _ in range(n_steps):\n",
    "        q = mismatch(etalon, x)\n",
    "        print(x, '->', q.item())\n",
    "        # Вычисляем градиент для x (d mismatch/dx)\n",
    "        q.backward()\n",
    "        # Делаем шаг в противоположном направлении\n",
    "        x.data = x.data - x.grad.data * alpha\n",
    "        x.grad.data.zero_()\n",
    "    return x"
   ]
  },
  {
   "cell_type": "code",
   "execution_count": 28,
   "id": "2d5ac322-3c6a-4c57-876b-60dbf05c5090",
   "metadata": {},
   "outputs": [
    {
     "name": "stdout",
     "output_type": "stream",
     "text": [
      "tensor([[1.5000, 4.0000]], requires_grad=True) -> 4.25\n",
      "tensor([[1.4000, 3.6000]], requires_grad=True) -> 2.7199997901916504\n",
      "tensor([[1.3200, 3.2800]], requires_grad=True) -> 1.740799903869629\n",
      "tensor([[1.2560, 3.0240]], requires_grad=True) -> 1.1141119003295898\n",
      "tensor([[1.2048, 2.8192]], requires_grad=True) -> 0.7130317091941833\n",
      "tensor([[1.1638, 2.6554]], requires_grad=True) -> 0.4563402235507965\n",
      "tensor([[1.1311, 2.5243]], requires_grad=True) -> 0.29205769300460815\n",
      "tensor([[1.1049, 2.4194]], requires_grad=True) -> 0.18691684305667877\n",
      "tensor([[1.0839, 2.3355]], requires_grad=True) -> 0.1196267157793045\n",
      "tensor([[1.0671, 2.2684]], requires_grad=True) -> 0.0765610784292221\n"
     ]
    },
    {
     "data": {
      "text/plain": [
       "tensor([[1.0537, 2.2147]], requires_grad=True)"
      ]
     },
     "execution_count": 28,
     "metadata": {},
     "output_type": "execute_result"
    }
   ],
   "source": [
    "etalon = torch.tensor([[1.0, 2.0]], dtype=torch.float32)\n",
    "x = torch.tensor([[1.5, 4.0]],\n",
    "                 requires_grad=True,\n",
    "                 dtype=torch.float32)\n",
    "\n",
    "gradient_descent(etalon, x, 10)"
   ]
  },
  {
   "cell_type": "code",
   "execution_count": 29,
   "id": "6648f7b3-82e0-4ddd-9d6f-90def00b3e00",
   "metadata": {},
   "outputs": [],
   "source": [
    "class MyGDOptimizer:\n",
    "\n",
    "    def __init__(self, what_to_tune, alpha=0.1):\n",
    "        # Список тензоров, которые будем корректировать\n",
    "        self.parameters = what_to_tune\n",
    "        self.alpha = alpha\n",
    "    \n",
    "    def step(self):\n",
    "        for parameter in self.parameters:\n",
    "            parameter.data = parameter.data - parameter.grad.data * self.alpha\n",
    "            parameter.grad.data.zero_()\n",
    "             "
   ]
  },
  {
   "cell_type": "code",
   "execution_count": 30,
   "id": "c3666f01-92f5-4cff-bc6a-6e3e0ab4909a",
   "metadata": {},
   "outputs": [],
   "source": [
    "def gradient_descent2(etalon, x, n_steps, optimizer):\n",
    "    for _ in range(n_steps):\n",
    "        q = mismatch(etalon, x)\n",
    "        print(x, '->', q.item())\n",
    "        # Вычисляем градиент для x (d mismatch/dx)\n",
    "        q.backward()\n",
    "        # Делаем шаг в противоположном направлении\n",
    "        optimizer.step()\n",
    "    return x"
   ]
  },
  {
   "cell_type": "code",
   "execution_count": 31,
   "id": "6b0b62e8-cf63-48ae-8d6e-dfb851bab62a",
   "metadata": {},
   "outputs": [
    {
     "name": "stdout",
     "output_type": "stream",
     "text": [
      "tensor([[1.5000, 4.0000]], requires_grad=True) -> 4.25\n",
      "tensor([[1.4000, 3.6000]], requires_grad=True) -> 2.7199997901916504\n",
      "tensor([[1.3200, 3.2800]], requires_grad=True) -> 1.740799903869629\n",
      "tensor([[1.2560, 3.0240]], requires_grad=True) -> 1.1141119003295898\n",
      "tensor([[1.2048, 2.8192]], requires_grad=True) -> 0.7130317091941833\n",
      "tensor([[1.1638, 2.6554]], requires_grad=True) -> 0.4563402235507965\n",
      "tensor([[1.1311, 2.5243]], requires_grad=True) -> 0.29205769300460815\n",
      "tensor([[1.1049, 2.4194]], requires_grad=True) -> 0.18691684305667877\n",
      "tensor([[1.0839, 2.3355]], requires_grad=True) -> 0.1196267157793045\n",
      "tensor([[1.0671, 2.2684]], requires_grad=True) -> 0.0765610784292221\n"
     ]
    },
    {
     "data": {
      "text/plain": [
       "tensor([[1.0537, 2.2147]], requires_grad=True)"
      ]
     },
     "execution_count": 31,
     "metadata": {},
     "output_type": "execute_result"
    }
   ],
   "source": [
    "etalon = torch.tensor([[1.0, 2.0]], dtype=torch.float32)\n",
    "x = torch.tensor([[1.5, 4.0]],\n",
    "                 requires_grad=True,\n",
    "                 dtype=torch.float32)\n",
    "gradient_descent2(etalon, x, 10, MyGDOptimizer([x], 0.1))"
   ]
  },
  {
   "cell_type": "code",
   "execution_count": 32,
   "id": "5de4943d-f57f-49f0-95e9-604c70315d36",
   "metadata": {},
   "outputs": [],
   "source": [
    "q =mismatch(etalon, x)"
   ]
  },
  {
   "cell_type": "markdown",
   "id": "e05d7e6b-bf21-4fd9-abc7-db85d5ae39c8",
   "metadata": {},
   "source": [
    "## Логистическая регрессия \"на коленке\""
   ]
  },
  {
   "cell_type": "code",
   "execution_count": null,
   "id": "ca853f2c-2065-4e4d-bb65-1cb211d6f0be",
   "metadata": {},
   "outputs": [],
   "source": []
  },
  {
   "cell_type": "markdown",
   "id": "3c350c46-62d4-4516-ba34-685d7c387b7b",
   "metadata": {},
   "source": [
    "## Многослойная нейронная сеть"
   ]
  },
  {
   "cell_type": "code",
   "execution_count": null,
   "id": "84282bec-4daa-4c00-9df6-96cc3e646402",
   "metadata": {},
   "outputs": [],
   "source": []
  }
 ],
 "metadata": {
  "kernelspec": {
   "display_name": "Python 3 (ipykernel)",
   "language": "python",
   "name": "python3"
  },
  "language_info": {
   "codemirror_mode": {
    "name": "ipython",
    "version": 3
   },
   "file_extension": ".py",
   "mimetype": "text/x-python",
   "name": "python",
   "nbconvert_exporter": "python",
   "pygments_lexer": "ipython3",
   "version": "3.9.18"
  }
 },
 "nbformat": 4,
 "nbformat_minor": 5
}
