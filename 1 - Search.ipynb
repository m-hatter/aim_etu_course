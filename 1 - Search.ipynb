{
 "cells": [
  {
   "cell_type": "code",
   "execution_count": 1,
   "id": "c4727a83",
   "metadata": {},
   "outputs": [],
   "source": [
    "# Фрагменты модуля, посвященного алгоритмам поиска, из\n",
    "# официального репозитория AIMA (https://github.com/aimacode/aima-python)\n",
    "import search"
   ]
  },
  {
   "cell_type": "markdown",
   "id": "e5c99057",
   "metadata": {},
   "source": [
    "# Головоломка \"игра в 8\"\n",
    "\n",
    "Определим правила (состояние, возможные переходы и пр.) головоломки \"игра в 8\" с помощью примитивов, определенных в репозитории AIMA, чтобы получить возможность применять реализованные в нем алгоритмы поиска.\n",
    "\n",
    "Определение задачи, решаемой с помощью данной реализации поисковых алгоритмов, предполагает создание класса, реализующего следующие операции:\n",
    "\n",
    "- `actions(state)` - Iterable по действиям, допустимым в заданном состоянии;\n",
    "- `result(state, action)` - новое состояние, которое получается при применении заданного действия в заданном состоянии;\n",
    "- `action_cost(s, a, s1)` - стоимость совершения заданного действия в заданном состоянии;\n",
    "- `h(node)` - значение эвристики для заданного узла дерева поиска (используется при информированном поиске);\n",
    "- `is_goal(state)` - проверка того, является ли заданное состояние целевым (имеет разумную реализацию по умолчанию, как правило, переопределять не приходится).\n",
    "\n",
    "В экземляре задачи должно быть также поле `initial`, соответствующее начальному состоянию, и, как правило, поле `goal`, соответствующие целевому состоянию. Однако в некоторых поисковых задачах бывает сложно определить одно целевое состояние - в этих случаях поля `goal` может не быть, однако тогда следует переопределять функцию проверки цели (`is_goal`) и функцию преобразования в строку (в базовой реализации она опирается на наличие поля `goal`).\n",
    "\n",
    "В модуле определен класс `Problem`, от которого целесообразно наследовать все подобные определения задач. В данном классе, в частности, предлагаются разумные значения по умолчанию для стоимости действия (все действия считаются имеющими одинаковую стоимость - единица), эвристики (0 - соответствует неинформативной эвристике), и проверки достижения цели (равенство состояния значению поля `goal`).\n",
    "\n",
    "Состояние и действие (параметры `state` и `action`) могут иметь то представление, которое удобно для данной задачи, алгоритмы поиска никак не пытаются их интерпретировать - вся обработка происходит только внутри реализации класса задачи. Параметр `node`, передаваемый в функцию `h`, соответствует структуре `search.Node` (узел дерева поиска):\n",
    "\n",
    "- `state` - состояние;\n",
    "- `parent` - родительское состояние;\n",
    "- `action` - действие, в результате которого был осуществлен переход из `parent` в `state`;\n",
    "- `path_cost` - стоимость пути (от начального состояния до `state`), соответствущего данной ветви дерева.\n"
   ]
  },
  {
   "cell_type": "code",
   "execution_count": 2,
   "id": "36d6d8e3",
   "metadata": {},
   "outputs": [],
   "source": [
    "class EightPuzzle(search.Problem):\n",
    "    \"\"\" The problem of sliding tiles numbered from 1 to 8 on a 3x3 board,\n",
    "    where one of the squares is a blank, trying to reach a goal configuration.\n",
    "    A board state is represented as a tuple of length 9, where the element at index i \n",
    "    represents the tile number at index i, or 0 if for the empty square, e.g. the goal:\n",
    "        1 2 3\n",
    "        4 5 6 ==> (1, 2, 3, 4, 5, 6, 7, 8, 0)\n",
    "        7 8 _\n",
    "    \"\"\"\n",
    "\n",
    "    def __init__(self, initial, goal=(0, 1, 2, 3, 4, 5, 6, 7, 8)):\n",
    "        self.initial, self.goal = initial, goal\n",
    "    \n",
    "    def actions(self, state):\n",
    "        \"\"\"The indexes of the squares that the blank can move to.\"\"\"\n",
    "        moves = ((1, 3),    (0, 2, 4),    (1, 5),\n",
    "                 (0, 4, 6), (1, 3, 5, 7), (2, 4, 8),\n",
    "                 (3, 7),    (4, 6, 8),    (7, 5))\n",
    "        blank = state.index(0)\n",
    "        return moves[blank]\n",
    "    \n",
    "    def result(self, state, action):\n",
    "        \"\"\"Swap the blank with the square numbered `action`.\"\"\"\n",
    "        s = list(state)\n",
    "        blank = state.index(0)\n",
    "        s[action], s[blank] = s[blank], s[action]\n",
    "        return tuple(s)\n",
    "    "
   ]
  },
  {
   "cell_type": "code",
   "execution_count": 3,
   "id": "45886cb0",
   "metadata": {},
   "outputs": [
    {
     "name": "stdout",
     "output_type": "stream",
     "text": [
      "EightPuzzle((0, 1, 2, 3, 4, 5, 6, 7, 8), (0, 1, 2, 3, 4, 5, 6, 7, 8))\n"
     ]
    }
   ],
   "source": [
    "p1 = EightPuzzle((0, 1, 2, 3, 4, 5, 6, 7, 8))\n",
    "print(p1)"
   ]
  },
  {
   "cell_type": "markdown",
   "id": "38c48333",
   "metadata": {},
   "source": [
    "## Визуализация"
   ]
  },
  {
   "cell_type": "code",
   "execution_count": 4,
   "id": "1d0bf100",
   "metadata": {},
   "outputs": [],
   "source": [
    "def board8(board, fmt=(3 * '{} {} {}\\n')):\n",
    "    \"A string representing an 8-puzzle board\"\n",
    "    return fmt.format(*board).replace('0', '_')"
   ]
  },
  {
   "cell_type": "code",
   "execution_count": 5,
   "id": "31e790aa",
   "metadata": {},
   "outputs": [
    {
     "name": "stdout",
     "output_type": "stream",
     "text": [
      "_ 1 2\n",
      "3 4 5\n",
      "6 7 8\n",
      "\n"
     ]
    }
   ],
   "source": [
    "print(board8(p1.initial))"
   ]
  },
  {
   "cell_type": "markdown",
   "id": "1a30e0ea",
   "metadata": {},
   "source": [
    "# Экспериментальная оценка сложности алгоритмов поиска"
   ]
  },
  {
   "cell_type": "code",
   "execution_count": 6,
   "id": "3fbc50db",
   "metadata": {},
   "outputs": [],
   "source": [
    "e1 = EightPuzzle((1, 4, 2, 0, 7, 5, 3, 6, 8))\n",
    "e2 = EightPuzzle((1, 2, 3, 4, 5, 6, 7, 8, 0))\n",
    "e3 = EightPuzzle((4, 0, 2, 5, 1, 3, 7, 8, 6))\n",
    "e4 = EightPuzzle((7, 2, 4, 5, 0, 6, 8, 3, 1))\n",
    "e5 = EightPuzzle((8, 6, 7, 2, 5, 4, 3, 0, 1))"
   ]
  },
  {
   "cell_type": "markdown",
   "id": "4053245a",
   "metadata": {},
   "source": [
    "## Неинформированный поиск"
   ]
  },
  {
   "cell_type": "code",
   "execution_count": 7,
   "id": "c9cce206-5f21-408f-8da2-ff96e0a9c4f7",
   "metadata": {},
   "outputs": [
    {
     "name": "stdout",
     "output_type": "stream",
     "text": [
      "uniform_cost_search:\n",
      "      124 nodes |       46 goal |    5 cost |      50 actions | EightPuzzle((1, 4, 2, 0, 7, 5, 3, 6, 8),\n",
      "  214,952 nodes |   79,187 goal |   22 cost |  79,208 actions | EightPuzzle((1, 2, 3, 4, 5, 6, 7, 8, 0),\n",
      "  300,925 nodes |  112,082 goal |   23 cost | 112,104 actions | EightPuzzle((4, 0, 2, 5, 1, 3, 7, 8, 6),\n",
      "  457,766 nodes |  171,571 goal |   26 cost | 171,596 actions | EightPuzzle((7, 2, 4, 5, 0, 6, 8, 3, 1),\n",
      "  466,441 nodes |  174,474 goal |   27 cost | 174,500 actions | EightPuzzle((8, 6, 7, 2, 5, 4, 3, 0, 1),\n",
      "1,440,208 nodes |  537,360 goal |  103 cost | 537,458 actions | TOTAL\n",
      "\n"
     ]
    }
   ],
   "source": [
    "# Алгоритм Дейкстры (он же Uniform-Cost-Search) - Best-First-Search, в котором для\n",
    "# раскрытия выбирается вершина с минимальной стоимостью\n",
    "search.report([search.uniform_cost_search], [e1, e2, e3, e4, e5])"
   ]
  },
  {
   "cell_type": "code",
   "execution_count": 8,
   "id": "ce5b0587-85e6-4a9a-8c79-fa5bebc042f8",
   "metadata": {},
   "outputs": [
    {
     "name": "stdout",
     "output_type": "stream",
     "text": [
      "breadth_first_search:\n",
      "       81 nodes |       82 goal |    5 cost |      35 actions | EightPuzzle((1, 4, 2, 0, 7, 5, 3, 6, 8),\n",
      "  160,948 nodes |  160,949 goal |   22 cost |  59,960 actions | EightPuzzle((1, 2, 3, 4, 5, 6, 7, 8, 0),\n",
      "  218,263 nodes |  218,264 goal |   23 cost |  81,829 actions | EightPuzzle((4, 0, 2, 5, 1, 3, 7, 8, 6),\n",
      "  418,771 nodes |  418,772 goal |   26 cost | 156,533 actions | EightPuzzle((7, 2, 4, 5, 0, 6, 8, 3, 1),\n",
      "  448,667 nodes |  448,668 goal |   27 cost | 167,799 actions | EightPuzzle((8, 6, 7, 2, 5, 4, 3, 0, 1),\n",
      "1,246,730 nodes |1,246,735 goal |  103 cost | 466,156 actions | TOTAL\n",
      "\n"
     ]
    }
   ],
   "source": [
    "# Поиск в ширину\n",
    "# При стоимости всех действий 1 (как в этой задаче) он примерно эквивалентен\n",
    "# алгоритму Дейкстры\n",
    "search.report([search.breadth_first_search], [e1, e2, e3, e4, e5])"
   ]
  },
  {
   "cell_type": "markdown",
   "id": "48d3da0e-2213-421e-88a0-a822ddaff978",
   "metadata": {},
   "source": [
    "Действительно, числа оказались близкие, но количество проверок цели чуть больше, а количество раскрытых вершин чуть меньше. Как думаете, почему? "
   ]
  },
  {
   "cell_type": "code",
   "execution_count": 9,
   "id": "827cfbc6-b5a6-42b8-be6e-d9dc92754d8a",
   "metadata": {},
   "outputs": [
    {
     "name": "stdout",
     "output_type": "stream",
     "text": [
      "iterative_deepening_search:\n",
      "      116 nodes |      118 goal |    5 cost |      47 actions | EightPuzzle((1, 4, 2, 0, 7, 5, 3, 6, 8),\n",
      "1,449,397 nodes |1,449,397 goal |   22 cost | 532,868 actions | EightPuzzle((1, 2, 3, 4, 5, 6, 7, 8, 0),\n",
      "4,398,813 nodes |4,398,818 goal |   23 cost |1,601,193 actions | EightPuzzle((4, 0, 2, 5, 1, 3, 7, 8, 6),\n",
      "5,848,326 nodes |5,848,333 goal |   50 cost |2,134,108 actions | TOTAL\n",
      "\n"
     ]
    }
   ],
   "source": [
    "# Поиск в глубину\n",
    "# \n",
    "# Простой рекурсивный поиск в глубину для этой задачи, скорее всего, приведет к краху\n",
    "# ядра из-за переполнения стека. \n",
    "# search.report([search.depth_first_recursive_search], [e1, e2, e3, e4, e5])\n",
    "#\n",
    "# Вариант поиска в глубину на основе Best-First-Search оказывается более\n",
    "# перспективным, однако в приведенной реализации и он приводит к краху из-за\n",
    "# рекурсивной реализации __len__ у Node.\n",
    "# search.report([search.depth_first_bfs], [e1, e2, e3, e4, e5])\n",
    "#\n",
    "# Остаются варианты с итеративным углублением\n",
    "search.report([search.iterative_deepening_search], [e1, e2, e3])"
   ]
  },
  {
   "cell_type": "markdown",
   "id": "39d461ce",
   "metadata": {},
   "source": [
    "## Информированный поиск"
   ]
  },
  {
   "cell_type": "code",
   "execution_count": 10,
   "id": "be2bedc3",
   "metadata": {},
   "outputs": [],
   "source": [
    "def hamming_distance(A, B):\n",
    "    \"Number of positions where vectors A and B are different.\"\n",
    "    return sum(a != b for a, b in zip(A, B))\n",
    "\n",
    "def h1(problem, node):\n",
    "    \"\"\"The misplaced tiles heuristic.\"\"\"\n",
    "    return hamming_distance(node.state, problem.goal)\n",
    "\n",
    "def h2(problem, node):\n",
    "    \"\"\"The Manhattan heuristic.\"\"\"\n",
    "    X = (0, 1, 2, 0, 1, 2, 0, 1, 2)\n",
    "    Y = (0, 0, 0, 1, 1, 1, 2, 2, 2)\n",
    "    return sum(abs(X[s] - X[g]) + abs(Y[s] - Y[g])\n",
    "               for (s, g) in zip(node.state, problem.goal) if s != 0)"
   ]
  },
  {
   "cell_type": "code",
   "execution_count": 11,
   "id": "db94dc3f",
   "metadata": {},
   "outputs": [],
   "source": [
    "def astar_misplaced_tiles(problem): return search.astar_search(problem, h=lambda n: h1(problem, n))\n",
    "def astar_manhattan_tiles(problem): return search.astar_search(problem, h=lambda n: h2(problem, n))"
   ]
  },
  {
   "cell_type": "code",
   "execution_count": 12,
   "id": "0fb6228a",
   "metadata": {},
   "outputs": [
    {
     "name": "stdout",
     "output_type": "stream",
     "text": [
      "astar_misplaced_tiles:\n",
      "       17 nodes |        7 goal |    5 cost |      11 actions | EightPuzzle((1, 4, 2, 0, 7, 5, 3, 6, 8),\n",
      "   23,407 nodes |    8,726 goal |   22 cost |   8,747 actions | EightPuzzle((1, 2, 3, 4, 5, 6, 7, 8, 0),\n",
      "   38,632 nodes |   14,433 goal |   23 cost |  14,455 actions | EightPuzzle((4, 0, 2, 5, 1, 3, 7, 8, 6),\n",
      "  124,324 nodes |   46,553 goal |   26 cost |  46,578 actions | EightPuzzle((7, 2, 4, 5, 0, 6, 8, 3, 1),\n",
      "  156,111 nodes |   58,475 goal |   27 cost |  58,501 actions | EightPuzzle((8, 6, 7, 2, 5, 4, 3, 0, 1),\n",
      "  342,491 nodes |  128,194 goal |  103 cost | 128,292 actions | TOTAL\n",
      "\n",
      "astar_manhattan_tiles:\n",
      "       15 nodes |        6 goal |    5 cost |      10 actions | EightPuzzle((1, 4, 2, 0, 7, 5, 3, 6, 8),\n",
      "    3,614 nodes |    1,349 goal |   22 cost |   1,370 actions | EightPuzzle((1, 2, 3, 4, 5, 6, 7, 8, 0),\n",
      "    5,373 nodes |    2,010 goal |   23 cost |   2,032 actions | EightPuzzle((4, 0, 2, 5, 1, 3, 7, 8, 6),\n",
      "   10,832 nodes |    4,086 goal |   26 cost |   4,111 actions | EightPuzzle((7, 2, 4, 5, 0, 6, 8, 3, 1),\n",
      "   11,669 nodes |    4,417 goal |   27 cost |   4,443 actions | EightPuzzle((8, 6, 7, 2, 5, 4, 3, 0, 1),\n",
      "   31,503 nodes |   11,868 goal |  103 cost |  11,966 actions | TOTAL\n",
      "\n"
     ]
    }
   ],
   "source": [
    "search.report([astar_misplaced_tiles,\n",
    "               astar_manhattan_tiles],\n",
    "              [e1, e2, e3, e4, e5])"
   ]
  }
 ],
 "metadata": {
  "kernelspec": {
   "display_name": "Python 3 (ipykernel)",
   "language": "python",
   "name": "python3"
  },
  "language_info": {
   "codemirror_mode": {
    "name": "ipython",
    "version": 3
   },
   "file_extension": ".py",
   "mimetype": "text/x-python",
   "name": "python",
   "nbconvert_exporter": "python",
   "pygments_lexer": "ipython3",
   "version": "3.9.18"
  }
 },
 "nbformat": 4,
 "nbformat_minor": 5
}
