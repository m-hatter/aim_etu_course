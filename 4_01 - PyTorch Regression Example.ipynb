{
 "cells": [
  {
   "cell_type": "code",
   "execution_count": 105,
   "id": "24f94f00",
   "metadata": {},
   "outputs": [],
   "source": [
    "import torch\n",
    "import numpy as np\n",
    "import matplotlib.pyplot as plt"
   ]
  },
  {
   "cell_type": "markdown",
   "id": "c1cda67b",
   "metadata": {},
   "source": [
    "Создадим набор данных, порожденный некоторой линейной функцией $y = k x + b$. Для модели регрессии эта функция будет неизвестна, ее \"угадывание\" или восстановление как раз и будет происходить в ходе обучения регрессионной модели. "
   ]
  },
  {
   "cell_type": "code",
   "execution_count": 106,
   "id": "0d190252",
   "metadata": {},
   "outputs": [],
   "source": [
    "def true_fun(x):\n",
    "    return 0.5 * x + 0.17\n",
    "\n",
    "# Параметр, контролирующий шум, добавляемый к сгенерированным данным\n",
    "# (чтобы они отклонялись от уравнения, заданного в `true_fun`)\n",
    "NOISE_SIGMA = 0"
   ]
  },
  {
   "cell_type": "code",
   "execution_count": 107,
   "id": "9161c73d",
   "metadata": {},
   "outputs": [],
   "source": [
    "x = np.random.random(6)\n",
    "y = true_fun(x) + np.random.normal(0, NOISE_SIGMA, x.shape)"
   ]
  },
  {
   "cell_type": "markdown",
   "id": "4bb1885b",
   "metadata": {},
   "source": [
    "Вспомогательная функция для визуализации набора (и модели):"
   ]
  },
  {
   "cell_type": "code",
   "execution_count": 108,
   "id": "6db23c34",
   "metadata": {},
   "outputs": [],
   "source": [
    "def plot(x, y, foo=None):\n",
    "    plt.scatter(x, y)\n",
    "    if foo is not None:\n",
    "        x_ = np.arange(0, 1.0, 0.05)\n",
    "        y_ = foo(torch.from_numpy(x_)).numpy(force=True)\n",
    "        plt.plot(x_, y_, color='orange')\n",
    "    plt.xlim([0, 1.0])\n",
    "    plt.ylim([0, 1.0])"
   ]
  },
  {
   "cell_type": "code",
   "execution_count": 109,
   "id": "05486e6c",
   "metadata": {},
   "outputs": [
    {
     "data": {
      "image/png": "[encoded data removed]",
      "text/plain": [
       "<Figure size 640x480 with 1 Axes>"
      ]
     },
     "metadata": {},
     "output_type": "display_data"
    }
   ],
   "source": [
    "plot(x, y)"
   ]
  },
  {
   "cell_type": "markdown",
   "id": "14bffa6f",
   "metadata": {},
   "source": [
    "Определим класс `LinearModel`, инкапсулирующий в себе линейную модель одной переменной: $h(x) = \\hat{k}x + \\hat{b}$. Нотация $\\hat{\\cdot}$ часто используется для того, чтобы подчеркнуть, что соответствующие параметры являются оценками некоторых реальных, но неизвестных параметров. В нашем случае так и есть: $\\hat{k}$ - это оценка параметра $k$, а $\\hat{b}$ - оценка параметра $b$.\n",
    "\n",
    "Экземпляр класса `LinearModel` содержит два тензора-скаляра, соответствующих параметрам модели. Важно, что эти тензоры сконструированы указанием `requires_grad=True`. Это означает, что действия над ними будут \"записываться\" и по результатам этих действий для этих параметров может быть вычислен градиент.  "
   ]
  },
  {
   "cell_type": "code",
   "execution_count": 110,
   "id": "1d8f8c02",
   "metadata": {},
   "outputs": [],
   "source": [
    "class LinearModel:\n",
    "   \n",
    "    def __init__(self):\n",
    "        # Параметры модели\n",
    "        self.k = torch.tensor(0.0, requires_grad=True)\n",
    "        self.b = torch.tensor(0.0, requires_grad=True)        \n",
    "\n",
    "    def __call__(self, x):\n",
    "        \"\"\"Вычисление значения модели для заданного аргумента.\"\"\"\n",
    "        return self.k * x + self.b\n",
    "\n",
    "    def parameters(self):\n",
    "        \"\"\"Список параметров модели.\"\"\"\n",
    "        return [self.k, self.b]\n",
    "\n",
    "    def __str__(self):\n",
    "        \"\"\"Строковое представление.\"\"\"\n",
    "        return f'LinearModel: k={self.k:.4f} b={self.b:.4f}'\n",
    "    \n",
    "class GDOptimizer:\n",
    "    \n",
    "    def __init__(self, parameters, alpha=0.1):\n",
    "        self.parameters = parameters\n",
    "        self.alpha = alpha\n",
    "    \n",
    "    def step(self):\n",
    "        \"\"\"Шаг оптимизации.\n",
    "        \n",
    "        Каждый из оптимизируемых параметров следует изменить в направлении,\n",
    "        противоположном градиенту (на величину, пропорциональную величине\n",
    "        градиента).\n",
    "        \"\"\"\n",
    "        for parameter in self.parameters:\n",
    "            parameter.data = parameter.data - parameter.grad.data * self.alpha\n",
    "    \n",
    "    def zero_grad(self):\n",
    "        \"\"\"Сброс градиента для всех оптимизируемых параметров.\"\"\"\n",
    "        for parameter in self.parameters:\n",
    "            if parameter.grad is not None:\n",
    "                parameter.grad.zero_()\n",
    "        "
   ]
  },
  {
   "cell_type": "code",
   "execution_count": 111,
   "id": "7a923af6",
   "metadata": {},
   "outputs": [],
   "source": [
    "# Создадим экземпляр модели\n",
    "model = LinearModel()\n",
    "# Создадим экземпляр оптимизатора, связав его с\n",
    "# параметрами оцениваемой линейной модели\n",
    "optimizer = GDOptimizer(model.parameters())\n",
    "\n",
    "# Исходные данные для обучения следует преобразовать\n",
    "# в тензоры, во-первых, потому что внутри `LinearModel`\n",
    "# над ними будут проводиться операции (умножение на тензор и сложение с ним),\n",
    "# а операции между numpy-массивом и тензором невозможны,\n",
    "# во-вторых, потому что эти данные будут использоваться в \n",
    "# ходе вычисления функции потерь (лосс-функции) для которой\n",
    "# должно применяться автоматическое дифференцирование.\n",
    "# При этом `torch.from_numpy()` бережно относится к памяти - \n",
    "# без необходимости новую не выделяет.\n",
    "x_tensor = torch.from_numpy(x)\n",
    "y_tensor = torch.from_numpy(y)"
   ]
  },
  {
   "cell_type": "code",
   "execution_count": 112,
   "id": "26de1284",
   "metadata": {},
   "outputs": [
    {
     "name": "stdout",
     "output_type": "stream",
     "text": [
      "1.3814875019592747\n",
      "0.5419672370014068\n",
      "0.2229168206382045\n",
      "0.09973983520081126\n",
      "0.050630666000882805\n",
      "0.029817074804191736\n",
      "0.020046219533263673\n",
      "0.014772185742707455\n",
      "0.01147647947983038\n",
      "0.009161924560816893\n",
      "LinearModel: k=0.3926 b=0.2321\n",
      "0.0074112305070174415\n",
      "0.006032354924023022\n",
      "0.004924162317189441\n",
      "0.004024879514784693\n",
      "0.0032918313065733984\n",
      "0.002693044082079555\n",
      "0.002203459296127315\n",
      "0.0018029840038206052\n",
      "0.0014753341881685446\n",
      "0.0012072416134101868\n",
      "LinearModel: k=0.4612 b=0.1937\n",
      "0.0009878721143287202\n"
     ]
    }
   ],
   "source": [
    "i = 0\n",
    "while True:\n",
    "    # Сбросим градиент (чтобы результаты предыдущей\n",
    "    # итерации не влияли на направление изменения параметров)\n",
    "    optimizer.zero_grad()\n",
    "    # Вычислим ошибку предсказаний модели\n",
    "    loss = torch.sum((model(x_tensor) - y_tensor) ** 2)\n",
    "    print(loss.item())\n",
    "    # Вычислим градиент ошибки предсказаний модели по всем\n",
    "    # параметрам\n",
    "    loss.backward()\n",
    "    # Скорректируем значения параметров\n",
    "    optimizer.step()\n",
    "    i += 1\n",
    "    if i % 10 == 0:\n",
    "        print(model)\n",
    "    # Условие останова - если ошибка становится достаточно маленькой\n",
    "    if loss < 0.001:\n",
    "        break"
   ]
  },
  {
   "cell_type": "code",
   "execution_count": 95,
   "id": "64278d82",
   "metadata": {},
   "outputs": [
    {
     "name": "stdout",
     "output_type": "stream",
     "text": [
      "LinearModel: k=0.3433 b=0.2594\n"
     ]
    }
   ],
   "source": [
    "print(model)"
   ]
  },
  {
   "cell_type": "code",
   "execution_count": 113,
   "id": "f3a0fe0c",
   "metadata": {},
   "outputs": [
    {
     "data": {
      "image/png": "[encoded data removed]",
      "text/plain": [
       "<Figure size 640x480 with 1 Axes>"
      ]
     },
     "metadata": {},
     "output_type": "display_data"
    }
   ],
   "source": [
    "plot(x, y, model)"
   ]
  },
  {
   "cell_type": "code",
   "execution_count": 114,
   "id": "860b31d1",
   "metadata": {},
   "outputs": [
    {
     "name": "stdout",
     "output_type": "stream",
     "text": [
      "0.0008083658976963935\n",
      "0.0005162321722837012\n",
      "0.00042242591045604674\n",
      "0.00034566711091552614\n",
      "0.0002828565670280871\n",
      "0.0002314592799067294\n",
      "0.00018940097857998695\n",
      "0.0001549853997539364\n",
      "0.00012682341696916468\n",
      "0.00010377877927369063\n"
     ]
    }
   ],
   "source": [
    "for _ in range(10):\n",
    "    loss = torch.sum((model(x_tensor) - y_tensor) ** 2)\n",
    "    print(loss.item())\n",
    "    loss.backward()\n",
    "    optimizer.step()\n",
    "    optimizer.zero_grad()"
   ]
  },
  {
   "cell_type": "code",
   "execution_count": 115,
   "id": "76ddbff2",
   "metadata": {},
   "outputs": [
    {
     "name": "stdout",
     "output_type": "stream",
     "text": [
      "LinearModel: k=0.4886 b=0.1770\n"
     ]
    }
   ],
   "source": [
    "print(model)"
   ]
  },
  {
   "cell_type": "code",
   "execution_count": 116,
   "id": "d740ab0b",
   "metadata": {},
   "outputs": [
    {
     "data": {
      "image/png": "[encoded data removed]",
      "text/plain": [
       "<Figure size 640x480 with 1 Axes>"
      ]
     },
     "metadata": {},
     "output_type": "display_data"
    }
   ],
   "source": [
    "plot(x, y, model)"
   ]
  },
  {
   "cell_type": "code",
   "execution_count": 120,
   "id": "09f0bca3",
   "metadata": {},
   "outputs": [
    {
     "name": "stdout",
     "output_type": "stream",
     "text": [
      "2.071390568007928e-07\n",
      "1.695047967070905e-07\n",
      "1.3869982548079614e-07\n",
      "1.1349336100195688e-07\n",
      "9.286560871356296e-08\n",
      "7.599361616805872e-08\n",
      "6.217998350939684e-08\n",
      "5.088149745667162e-08\n",
      "4.163261121636132e-08\n",
      "3.406608859328091e-08\n"
     ]
    }
   ],
   "source": [
    "for _ in range(10):\n",
    "    loss = torch.sum((model(x_tensor) - y_tensor) ** 2)\n",
    "    print(loss.item())\n",
    "    loss.backward()\n",
    "    optimizer.step()\n",
    "    optimizer.zero_grad()"
   ]
  },
  {
   "cell_type": "code",
   "execution_count": 121,
   "id": "96fdb87a",
   "metadata": {},
   "outputs": [
    {
     "name": "stdout",
     "output_type": "stream",
     "text": [
      "LinearModel: k=0.4998 b=0.1701\n"
     ]
    }
   ],
   "source": [
    "print(model)"
   ]
  },
  {
   "cell_type": "code",
   "execution_count": 122,
   "id": "4304dd96",
   "metadata": {},
   "outputs": [
    {
     "data": {
      "image/png": "[encoded data removed]",
      "text/plain": [
       "<Figure size 640x480 with 1 Axes>"
      ]
     },
     "metadata": {},
     "output_type": "display_data"
    }
   ],
   "source": [
    "plot(x, y, model)"
   ]
  },
  {
   "cell_type": "code",
   "execution_count": null,
   "id": "c69d75d6",
   "metadata": {},
   "outputs": [],
   "source": []
  }
 ],
 "metadata": {
  "kernelspec": {
   "display_name": "Python 3 (ipykernel)",
   "language": "python",
   "name": "python3"
  },
  "language_info": {
   "codemirror_mode": {
    "name": "ipython",
    "version": 3
   },
   "file_extension": ".py",
   "mimetype": "text/x-python",
   "name": "python",
   "nbconvert_exporter": "python",
   "pygments_lexer": "ipython3",
   "version": "3.9.18"
  }
 },
 "nbformat": 4,
 "nbformat_minor": 5
}
