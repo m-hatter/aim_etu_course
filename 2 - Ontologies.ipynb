{
 "cells": [
  {
   "cell_type": "markdown",
   "id": "8c334753-b1b3-44dc-8fb3-8f808b2c5fd6",
   "metadata": {},
   "source": [
    "# Лабораторная работа № 2 \"Онтологии\"\n",
    "\n",
    "В блокноте показан пример выполнения некоторых заданий второй лабораторной работы. Предполагается, что перед запуском этого блокнота с помощью редактора Protege была создана и сохранена в файл `sample_ontology` онтология. В онтологии определены классы `Person`, `Man`, `Woman`, `Parent`, объектные свойства `hasParent` и `hasChild`, а также два индивида (`Abraham` и `Jacob`).\n",
    "\n",
    "В Python вся работа с онтологиями производится с помощью библиотеки `owlready2`:"
   ]
  },
  {
   "cell_type": "code",
   "execution_count": 1,
   "id": "740a6f65-f90f-4684-b0f0-84d43e47c98e",
   "metadata": {},
   "outputs": [],
   "source": [
    "import owlready2"
   ]
  },
  {
   "cell_type": "markdown",
   "id": "678745ee-2ea5-4099-8087-e5e1f41c56b4",
   "metadata": {},
   "source": [
    "## Загрузка онтологии"
   ]
  },
  {
   "cell_type": "code",
   "execution_count": 2,
   "id": "9fc315e1-aee1-48e0-911d-756b316f3411",
   "metadata": {},
   "outputs": [],
   "source": [
    "onto = owlready2.get_ontology(\"sample_ontology\").load()"
   ]
  },
  {
   "cell_type": "markdown",
   "id": "f1394f00-1909-45b7-bac6-de125e23ff6b",
   "metadata": {},
   "source": [
    "Выведем содержимое онтологии, чтобы убедиться, что всё загрузилось правильно:"
   ]
  },
  {
   "cell_type": "code",
   "execution_count": 3,
   "id": "359ce581-4d6c-4d14-baaa-9258af5ffeba",
   "metadata": {},
   "outputs": [
    {
     "name": "stdout",
     "output_type": "stream",
     "text": [
      "Classes: [sample_ontology.Person, sample_ontology.Female, sample_ontology.Male]\n"
     ]
    }
   ],
   "source": [
    "print('Classes:', list(onto.classes()))"
   ]
  },
  {
   "cell_type": "code",
   "execution_count": 4,
   "id": "aab92ca5-80ac-47d0-a4ab-08d57148afd3",
   "metadata": {},
   "outputs": [
    {
     "name": "stdout",
     "output_type": "stream",
     "text": [
      "Individuals: [sample_ontology.Abraham, sample_ontology.Jacob]\n"
     ]
    }
   ],
   "source": [
    "print('Individuals:', list(onto.individuals()))"
   ]
  },
  {
   "cell_type": "markdown",
   "id": "096b5da5-8f11-4985-8bb3-751842e65de9",
   "metadata": {},
   "source": [
    "## Классификация индивидов\n",
    "\n",
    "Библиотека Owlready2 позволяет осуществлять исследование графа, задаваемого аксиомами онтологии (например, `ClassAssertion`)."
   ]
  },
  {
   "cell_type": "code",
   "execution_count": 5,
   "id": "585487f1-6b32-49be-a3a5-e590cb15743e",
   "metadata": {},
   "outputs": [],
   "source": [
    "abraham = onto.search_one(iri = \"*Abraham\")\n",
    "jacob = onto.search_one(iri = \"*Jacob\")"
   ]
  },
  {
   "cell_type": "markdown",
   "id": "97bb16ce-c75e-4aea-a503-06bd0f03a7f6",
   "metadata": {},
   "source": [
    "К каким классам относятся эти индивиды?"
   ]
  },
  {
   "cell_type": "code",
   "execution_count": 6,
   "id": "368adae0-56c2-4185-b847-ac15ab4209e1",
   "metadata": {},
   "outputs": [
    {
     "data": {
      "text/plain": [
       "[owl.Thing]"
      ]
     },
     "execution_count": 6,
     "metadata": {},
     "output_type": "execute_result"
    }
   ],
   "source": [
    "abraham.is_a"
   ]
  },
  {
   "cell_type": "code",
   "execution_count": 7,
   "id": "29b8389d-5af7-470b-b102-07e370bc934b",
   "metadata": {},
   "outputs": [
    {
     "data": {
      "text/plain": [
       "[owl.Thing]"
      ]
     },
     "execution_count": 7,
     "metadata": {},
     "output_type": "execute_result"
    }
   ],
   "source": [
    "jacob.is_a"
   ]
  },
  {
   "cell_type": "markdown",
   "id": "99404b50-ca2d-498f-8df6-6bb8e07d25ca",
   "metadata": {},
   "source": [
    "Действительно, онтология не содержит аксиом, которые бы напрямую связывали индивидов `Abraham` и `Jacob` с какими-либо классами, поэтому всё, что о них можно сказать, это то, что они принадлежат к базовому классу OWL - `owl.Thing` (что-то)."
   ]
  },
  {
   "cell_type": "markdown",
   "id": "22b1422d-3450-433e-9635-e98d3e8fb2a8",
   "metadata": {},
   "source": [
    "### Свойства индивида\n",
    "\n",
    "Изучим также свойства этих индивидов. Напомним, что в онтологии есть утверждение о том, что `Abraham` `hasChild` `Jacob`, однако нет явной информации о том, что `Jacob` `hasParent` `Abraham`."
   ]
  },
  {
   "cell_type": "code",
   "execution_count": 8,
   "id": "a56d44a2-32b4-4da1-b4d3-ac2f811415ed",
   "metadata": {},
   "outputs": [
    {
     "name": "stdout",
     "output_type": "stream",
     "text": [
      ".hasChild == sample_ontology.Jacob\n"
     ]
    }
   ],
   "source": [
    "for prop in abraham.get_properties():\n",
    "    for value in prop[abraham]:\n",
    "        print(\".%s == %s\" % (prop.python_name, value))"
   ]
  },
  {
   "cell_type": "code",
   "execution_count": 9,
   "id": "439b0d51-0074-48b0-a5a0-67437c2870be",
   "metadata": {},
   "outputs": [
    {
     "name": "stdout",
     "output_type": "stream",
     "text": [
      ".hasParent == sample_ontology.Abraham\n"
     ]
    }
   ],
   "source": [
    "for prop in jacob.get_properties():\n",
    "    for value in prop[jacob]:\n",
    "        print(\".%s == %s\" % (prop.python_name, value))"
   ]
  },
  {
   "cell_type": "markdown",
   "id": "eedbe8c5-d760-4e91-8a7d-d05edf3829f7",
   "metadata": {},
   "source": [
    "Довольно неожиданный результат - видимо, при построении графа библиотека `Owlready2` сама обработала информацию о взаимной обратности этих свойств."
   ]
  },
  {
   "cell_type": "markdown",
   "id": "093d2823-0c26-410e-b2bb-55ca8e8dff19",
   "metadata": {},
   "source": [
    "# Включение reasoner (машины вывода)"
   ]
  },
  {
   "cell_type": "markdown",
   "id": "c17d6a50-2f4d-4e1d-8aac-0d0f2d75b5e8",
   "metadata": {},
   "source": [
    "Вообще, машина вывода является внешней программой, написанной на Java и для ее запуска, соответственно, нужна Java-машина. Подробно о настройке можно почитать в документации по `Owlready2` (https://owlready2.readthedocs.io/en/v0.42/reasoning.html#configuration). Есть, однако, шанс встретиться в проблемой, заключающейся в невозможности выделить необходимое количество памяти при запуске машины вывода (по умолчанию требуется 2Гб). Решить эту проблему можно уменьшив значение переменной `JAVA_MEMORY` в файле `site-packages\\owlready2\\reasoning.py` до приемлемого. "
   ]
  },
  {
   "cell_type": "code",
   "execution_count": 10,
   "id": "8b8dcad3-fd41-40ff-9f26-b7aebdb46393",
   "metadata": {},
   "outputs": [
    {
     "name": "stderr",
     "output_type": "stream",
     "text": [
      "* Owlready2 * Running HermiT...\n",
      "    java -Xmx1000M -cp E:\\opt\\Miniconda3\\envs\\aim\\lib\\site-packages\\owlready2\\hermit;E:\\opt\\Miniconda3\\envs\\aim\\lib\\site-packages\\owlready2\\hermit\\HermiT.jar org.semanticweb.HermiT.cli.CommandLine -c -O -D -I file:///C:/Users/hatter/AppData/Local/Temp/tmpxxukulay\n",
      "* Owlready2 * HermiT took 0.6947436332702637 seconds\n",
      "* Owlready * Reparenting sample_ontology.Abraham: {owl.Thing} => {sample_ontology.Person}\n",
      "* Owlready * Reparenting sample_ontology.Jacob: {owl.Thing} => {sample_ontology.Person}\n",
      "* Owlready * (NB: only changes on entities loaded in Python are shown, other changes are done but not listed)\n"
     ]
    }
   ],
   "source": [
    "owlready2.sync_reasoner()"
   ]
  },
  {
   "cell_type": "code",
   "execution_count": 11,
   "id": "4c7e6958-48da-404f-bf07-f670258b6193",
   "metadata": {},
   "outputs": [
    {
     "data": {
      "text/plain": [
       "[sample_ontology.Person]"
      ]
     },
     "execution_count": 11,
     "metadata": {},
     "output_type": "execute_result"
    }
   ],
   "source": [
    "abraham.is_a"
   ]
  },
  {
   "cell_type": "code",
   "execution_count": 12,
   "id": "90d86b02-b795-4c49-94db-36df14494d6f",
   "metadata": {},
   "outputs": [
    {
     "data": {
      "text/plain": [
       "[sample_ontology.Person]"
      ]
     },
     "execution_count": 12,
     "metadata": {},
     "output_type": "execute_result"
    }
   ],
   "source": [
    "jacob.is_a"
   ]
  },
  {
   "cell_type": "markdown",
   "id": "556301be-b98f-4a37-aa0e-e5f40420e093",
   "metadata": {},
   "source": [
    "Как и ожидалось, после включения машины вывода произошла классификация индивидов."
   ]
  }
 ],
 "metadata": {
  "kernelspec": {
   "display_name": "Python 3 (ipykernel)",
   "language": "python",
   "name": "python3"
  },
  "language_info": {
   "codemirror_mode": {
    "name": "ipython",
    "version": 3
   },
   "file_extension": ".py",
   "mimetype": "text/x-python",
   "name": "python",
   "nbconvert_exporter": "python",
   "pygments_lexer": "ipython3",
   "version": "3.9.18"
  }
 },
 "nbformat": 4,
 "nbformat_minor": 5
}
