{
 "cells": [
  {
   "cell_type": "markdown",
   "id": "d5fe402a",
   "metadata": {},
   "source": [
    "# Лабораторная работа № 6. Обучение с подреплением\n",
    "\n",
    "В этой лабораторной работе мы возвращаемся к задаче о тележке со стержнем и попробуем применить к ней алгоритмы обучения с подкреплением, чтобы автоматически найти стратегию управления тележкой (а не задавать ее в виде правил, как это делалось в лабораторной работе № 3).\n",
    "\n",
    "В отличие от работы № 3, здесь будет использоваться оригинальное окружение `CartPole` из библиотеки `gymnasium`, в котором на тележку можно подать всего два типа воздействий (толкнуть влево или толкнуть вправо). Поэтому мы ожидаем, что получающиеся стратегии не будут так же хороши, как найденная нечеткая, однако в образовательных целях этого будет достаточно.\n",
    "\n",
    "Реализуемые в данной работе алгоритмы основаны на линейной аппроксимации функции ценности действия. То есть, функция ценности действия $\\hat{q}(s, a)$ будет представлена как линейная функция от признаков, описывающих состояние системы. Для построения подобной линеаризации используется популярная техника - грубое кодирование, а именно, плиточное кодирование (tile coding). \n"
   ]
  },
  {
   "cell_type": "code",
   "execution_count": 1,
   "id": "d4f1f8f7",
   "metadata": {},
   "outputs": [],
   "source": [
    "import random\n",
    "\n",
    "import numpy as np\n",
    "\n",
    "import gymnasium as gym"
   ]
  },
  {
   "cell_type": "markdown",
   "id": "08e4d9bc",
   "metadata": {},
   "source": [
    "# 1. Загрузим окружение и проведем имитацию"
   ]
  },
  {
   "cell_type": "code",
   "execution_count": 2,
   "id": "d1d522b2",
   "metadata": {},
   "outputs": [],
   "source": [
    "env = gym.make(\"CartPole-v1\", render_mode=\"human\")\n",
    "observation, info = env.reset(seed=42)\n",
    "for _ in range(500):\n",
    "    action = env.action_space.sample()  # this is where you would insert your policy\n",
    "    observation, reward, terminated, truncated, info = env.step(action)\n",
    "\n",
    "    if terminated or truncated:\n",
    "        observation, info = env.reset()\n",
    "\n",
    "env.close()"
   ]
  },
  {
   "cell_type": "markdown",
   "id": "334caa44",
   "metadata": {},
   "source": [
    "Со случайным управлением стержень довольно часто падает. Воспользуемся функцией, похожей на ту, что мы использовали в  лабораторной работе 3, чтобы оценить количество падений стержня за заданное число шагов."
   ]
  },
  {
   "cell_type": "code",
   "execution_count": 3,
   "id": "f68a4bae",
   "metadata": {},
   "outputs": [],
   "source": [
    "class RandomAgent:\n",
    "\n",
    "    def get_action(self, obs):\n",
    "        return 0 if random.random() < 0.5 else 1\n",
    "\n",
    "def run(env, agent, n=10000):\n",
    "    \"\"\"Запускает имитацию заданного агента в заданном окружении.\n",
    "\n",
    "    Имитация продолжается в `n` шагов. При падении стержня - перезапускается.\n",
    "    Результатом работы является количество падений и временной ряд абсолютных\n",
    "    отклонений стержня от вертикали (в градусах).\"\"\"\n",
    "\n",
    "    fell = 0\n",
    "    \n",
    "    observation, info = env.reset()\n",
    "    \n",
    "    for _ in range(n):\n",
    "        action = agent.get_action(observation) # env.action_space.sample()  # agent policy that uses the observation and info\n",
    "        observation, reward, terminated, truncated, info = env.step(action)\n",
    "    \n",
    "        if terminated or truncated:\n",
    "            observation, info = env.reset()\n",
    "            fell += 1\n",
    "\n",
    "    return fell"
   ]
  },
  {
   "cell_type": "code",
   "execution_count": 4,
   "id": "2d8987d0",
   "metadata": {},
   "outputs": [
    {
     "name": "stdout",
     "output_type": "stream",
     "text": [
      "Random agent: 440 падений\n"
     ]
    }
   ],
   "source": [
    "for agent_name, agent in [('Random agent', RandomAgent())]:\n",
    "    env = gym.make(\"CartPole-v1\")\n",
    "    n_fell = run(env, agent, 10000)\n",
    "    env.close()\n",
    "    print(f'{agent_name}: {n_fell} падений')"
   ]
  },
  {
   "cell_type": "markdown",
   "id": "9f4d4ce4",
   "metadata": {},
   "source": [
    "# 2. Плиточное кодирование (tile coding)\n",
    "\n",
    "Суть плиточного кодирования заключается в том, чтобы разбить область допустимых значений непрерывного признака или набора признаков на прямоугольные ячейки, каждая из которых будет соответствовать одному признаку новой модели. Значение этого признака будет равно 1, если точка попадает внутрь ячейки и 0, если не попадает. Если на область допустимых значений наложить только одну такую сетку, то это будет, строго говоря, еще не плиточное кодирование, а только агрегация. При плиточном кодировании на область допустимых значений накладывается несколько таких сеток, границы которых не совпадают, в результате новое признаковое представление обладает определенным обобщением. \n"
   ]
  },
  {
   "cell_type": "code",
   "execution_count": 5,
   "id": "269e95f0",
   "metadata": {},
   "outputs": [],
   "source": [
    "class TileCoder2d:\n",
    "    \"\"\"Плиточное кодирование двух признаков.\"\"\"\n",
    "    \n",
    "    def __init__(self, left, step, right, n_tilings):\n",
    "        \"\"\"Конструктор.\n",
    "        \n",
    "        left : numpy.array\n",
    "            Левая (меньшая) граница области кодируемых значений,\n",
    "            shape (2, )\n",
    "        step : numpy.array\n",
    "            Шаг сетки по каждому из признаков,\n",
    "            shape (2, )\n",
    "        right : numpy.array\n",
    "            Правая (большая) граница области кодируемых значений,\n",
    "            shape (2, )\n",
    "        n_tilings : int\n",
    "            Количество \"сеток\".\n",
    "        \"\"\"\n",
    "        self.left = left\n",
    "        self.step = step\n",
    "        self.right = right\n",
    "        # Количество клеток\n",
    "        self.cells = np.ceil((self.right - self.left) / self.step).astype(int)\n",
    "        self.n_tilings = n_tilings\n",
    "        # Считаем, что сетки идут с равным шагом\n",
    "        self.tile_shift = self.step / n_tilings\n",
    "        # Количество признаков на одну сетку\n",
    "        self.features_per_tiling = (self.cells[0] * self.cells[1]).astype(int)\n",
    "        \n",
    "    def _base_idx(self, tiling_id : int):\n",
    "        \"\"\"Базовый индекс набора признаков, соответствующих заданной\n",
    "        сетке, во всем выходном пространстве признаков.\"\"\"\n",
    "        return self.features_per_tiling * tiling_id\n",
    "    \n",
    "    def _coord_to_idx(self, x, tile_id):\n",
    "        # Нижняя граница для заданной сетки\n",
    "        left = self.left + self.tile_shift * tile_id\n",
    "        # Если заданное значение ниже границы, то заменяем\n",
    "        # его нижней границей\n",
    "        x = np.maximum(left, x)\n",
    "        idxs = ((x - left) / self.step).astype(int)\n",
    "        # Если значение было выше диапазона, то нужно убедиться,\n",
    "        # что индекс ячейки будет допустимым\n",
    "        idxs = np.minimum(idxs, self.cells - 1)\n",
    "        return self.cells[1] * idxs[0] + idxs[1]\n",
    "    \n",
    "    def __call__(self, x):\n",
    "        idxs = [self._base_idx(i) + self._coord_to_idx(x, i) for i in range(self.n_tilings)]\n",
    "        v = np.zeros((self.n_features(), 1))\n",
    "        v[idxs] = 1\n",
    "        return v\n",
    "    \n",
    "    def n_features(self):\n",
    "        return self.features_per_tiling * self.n_tilings\n",
    "\n",
    "\n",
    "coder = TileCoder2d(np.array([-1., -1.]),  # нижняя граница\n",
    "                    np.array([.5, .5]),  # шаг\n",
    "                    np.array([1., 1.]),  # верхняя граница\n",
    "                    2)\n",
    "assert coder(np.array([-1., -1.])).sum() == 2\n",
    "assert coder(np.array([1., 1.])).sum() == 2\n",
    "assert np.all(coder(np.array([-1., -1.])) == coder(np.array([-0.9, -0.9])))\n",
    "assert np.all(coder(np.array([1., -1.])) == coder(np.array([0.9, -0.9])))\n",
    "# Вне сетки\n",
    "assert coder(np.array([10., 10.])).sum() == 2\n",
    "assert coder(np.array([-10., -10.])).sum() == 2"
   ]
  },
  {
   "cell_type": "markdown",
   "id": "83c6177b",
   "metadata": {},
   "source": [
    "# 3. Алгоритм Sarsa\n",
    "\n",
    "Этот алгоритм относится к классу алгоритмов, основанных на временных различиях (TD). Его название образовано от обозначения элементов последовательности, получаемой в ходе работы агента: S, A, R, S, A, ... На каждом шаге обрабатывается пять таких элементов - алгоритм пытается скорректировать оценку функции ценности $\\hat{q}(s, a)$ для выбора состояния и управления на прошлом шаге ($s$ и $a$) с учетом полученного вознаграждения и текущей оценки для нового состояния ($s'$) и управления ($a'$). При использовании полуградиентной разновидности, работающей с аппроксимацией функции ценности, правило корректировки на каждом шаге выглядит так:\n",
    "\n",
    "$$\n",
    "w_{t+1} = w_t + \\alpha[R + \\gamma \\hat{q}(s', a'; w)]\\nabla\\hat{q}(s, a; w). \n",
    "$$\n",
    "\n",
    "В случае использования линейной аппроксимации (т.е. $\\hat{q}(s, a; w) = w^T x(s)$) $\\nabla\\hat{q}(s, a; w)$ превращается просто в $x(s)$:\n",
    "\n",
    "$$\n",
    "w_{t+1} = w_t + \\alpha[R + \\gamma \\hat{q}(s', a'; w)] x(s). \n",
    "$$\n",
    " "
   ]
  },
  {
   "cell_type": "code",
   "execution_count": 6,
   "id": "d784cf2b",
   "metadata": {},
   "outputs": [],
   "source": [
    "class CartPoleSarsaAgent:\n",
    "    \n",
    "    def __init__(self, gamma, alpha=0.1, epsilon=0.1):\n",
    "        # Константа обучения, используемая в уравнении\n",
    "        # уточнения оценки ценности действия\n",
    "        self.alpha = alpha\n",
    "        # Параметр эпсилон-жадной стратегии исследования\n",
    "        self.epsilon = epsilon\n",
    "        # Коэффициент дисконтирования\n",
    "        self.gamma = gamma\n",
    "        self.last_observation = None\n",
    "        self.last_action = None\n",
    "        # Плиточное кодирование параметров окружения\n",
    "        # Первое значение касается угла, второе - угловой скорости\n",
    "        self.tile_coder = TileCoder2d(np.array((-0.3, -3.0)), #\n",
    "                                      np.array((0.02, 0.3)),\n",
    "                                      np.array((0.3, 3.0)), 5)\n",
    "        # Параметры аппроксимации\n",
    "        # Первый столбец - для действия \"налево\",\n",
    "        # второй столбец - для действия \"направо\"\n",
    "        self.w = np.zeros((self.tile_coder.n_features(), 2), dtype=np.float32)\n",
    "\n",
    "    def _strip_observation(self, observation):\n",
    "        \"\"\"Сохраняет только нужные компоненты среды.\"\"\"\n",
    "        x, v_x, angle, v_angle = observation\n",
    "        return np.array([angle, v_angle])\n",
    "        \n",
    "    def get_action(self, observation):\n",
    "        \"\"\"Выбор действия без обучения.\n",
    "        \n",
    "        Нужно, в основном, для совместимости с другими\n",
    "        видами агентов (например, из третьей лабораторной работы).\n",
    "        \"\"\"\n",
    "        observation = self._strip_observation(observation)\n",
    "        # Вычислим оценки стоимости действий\n",
    "        q = self.get_q(observation)\n",
    "        # Выберем наилучшее\n",
    "        return np.argmax(q)\n",
    "        \n",
    "    def get_q(self, x):\n",
    "        \"\"\"Вычисление оценки стоимости действий (q(s, a)).\"\"\"\n",
    "        return np.dot(self.w.T, self.tile_coder(x)) \n",
    "        \n",
    "    def learn_action_first(self, observation):\n",
    "        \"\"\"Выбор первого действия в сценарии.\n",
    "        \n",
    "        Эта функция отличается от просто `learn_action`,\n",
    "        потому что при выборе первого действия еще нет\n",
    "        требуемой алгоритму Sarsa пятерки S, A, R, S, A.\n",
    "        \"\"\"\n",
    "        observation = self._strip_observation(observation)\n",
    "        # Запоминаем состояние\n",
    "        self.last_observation = observation\n",
    "        # И выбираем действие случайным образом\n",
    "        self.last_action = 0 if np.random.random() < 0.5 else 1\n",
    "        return self.last_action\n",
    "    \n",
    "    def learn_action(self, reward, observation, last):\n",
    "        \"\"\"Основная функция, где происходит кооректировка оценки \n",
    "        и выбор действия.\"\"\"\n",
    "        observation = self._strip_observation(observation)\n",
    "        # Выбираем очередное действие в соответствии с \n",
    "        # эпсилон-жадной стратегией\n",
    "        q = self.get_q(observation)\n",
    "        if np.random.random() < self.epsilon:\n",
    "            action = 0 if np.random.random() < 0.5 else 1\n",
    "        else:\n",
    "            action = np.argmax(q)\n",
    "        \n",
    "        # Получим признаковое представление и оценку для последнего\n",
    "        # состояния\n",
    "        prev_x = self.tile_coder(self.last_observation)\n",
    "        prev_estimate = self.get_q(self.last_observation)\n",
    "        \n",
    "        # Логика последнего шага эпизода немного отличается - \n",
    "        # действие нам выбирать уже не надо, стержень уже упал,\n",
    "        # поэтому TD-целью для предыдущего состояния является просто\n",
    "        # последнее полученное вознаграждение\n",
    "        if last:\n",
    "            self.w[:, self.last_action] = self.w[:, self.last_action] + \\\n",
    "                (self.alpha * (reward - prev_estimate[self.last_action]) * prev_x).ravel()\n",
    "            self.last_observation = None\n",
    "            self.last_action = None            \n",
    "        else:\n",
    "            self.w[:, self.last_action] = self.w[:, self.last_action] + \\\n",
    "                (self.alpha * (reward + self.gamma * q[action] - prev_estimate[self.last_action]) * prev_x).ravel()\n",
    "            self.last_observation = observation\n",
    "            self.last_action = action\n",
    "        \n",
    "        return self.last_action\n",
    "\n"
   ]
  },
  {
   "cell_type": "markdown",
   "id": "c9d432e0",
   "metadata": {},
   "source": [
    "Обучим агента, для этого инициируем его взаимодействие со средой на протяжении большого количества шагов, при падении стержня просто перезапуская обучение:"
   ]
  },
  {
   "cell_type": "code",
   "execution_count": 7,
   "id": "327cf4ba",
   "metadata": {},
   "outputs": [],
   "source": [
    "agent = CartPoleSarsaAgent(0.8)"
   ]
  },
  {
   "cell_type": "code",
   "execution_count": 8,
   "id": "b609ede3",
   "metadata": {},
   "outputs": [],
   "source": [
    "env = gym.make(\"CartPole-v1\")\n",
    "observation, info = env.reset(seed=42)\n",
    "# В этот список будем собирать длину эпизодов\n",
    "history = []\n",
    "action = agent.learn_action_first(observation)\n",
    "observation, reward, terminated, truncated, info = env.step(action)\n",
    "start = 0\n",
    "for step in range(100000):\n",
    "    action = agent.learn_action(reward, observation, terminated or truncated)\n",
    "    observation, reward, terminated, truncated, info = env.step(action)\n",
    "\n",
    "    if terminated or truncated:\n",
    "        history.append(step - start)\n",
    "        start = step\n",
    "        observation, info = env.reset()\n",
    "        action = agent.learn_action_first(observation)        \n",
    "        observation, reward, terminated, truncated, info = env.step(action)\n",
    "\n",
    "env.close()"
   ]
  },
  {
   "cell_type": "code",
   "execution_count": 9,
   "id": "24e78aa5",
   "metadata": {},
   "outputs": [],
   "source": [
    "import matplotlib\n",
    "import matplotlib.pyplot as plt"
   ]
  },
  {
   "cell_type": "code",
   "execution_count": 10,
   "id": "ab1d1033",
   "metadata": {},
   "outputs": [
    {
     "data": {
      "text/plain": [
       "[<matplotlib.lines.Line2D at 0x1b6dfdb11c0>]"
      ]
     },
     "execution_count": 10,
     "metadata": {},
     "output_type": "execute_result"
    },
    {
     "data": {
      "image/png": "[encoded data removed]",
      "text/plain": [
       "<Figure size 640x480 with 1 Axes>"
      ]
     },
     "metadata": {},
     "output_type": "display_data"
    }
   ],
   "source": [
    "plt.plot(range(len(history)), history)"
   ]
  },
  {
   "cell_type": "markdown",
   "id": "abb0df95",
   "metadata": {},
   "source": [
    "Видно, что в определенный момент длина эпизода увеличилась до 200, после чего осталась приблизительно на одном и том же уровне. Оценим стратегию визуально:"
   ]
  },
  {
   "cell_type": "code",
   "execution_count": 11,
   "id": "e72f412e",
   "metadata": {},
   "outputs": [],
   "source": [
    "env = gym.make(\"CartPole-v1\", render_mode=\"human\")\n",
    "observation, info = env.reset()\n",
    "for step in range(300):\n",
    "    action = agent.get_action(observation)\n",
    "    observation, reward, terminated, truncated, info = env.step(action)\n",
    "    if terminated or truncated:\n",
    "        observation, info = env.reset()\n",
    "env.close()"
   ]
  },
  {
   "cell_type": "markdown",
   "id": "b4d4cc6f",
   "metadata": {},
   "source": [
    "Оценим качество стратегии численно:"
   ]
  },
  {
   "cell_type": "code",
   "execution_count": 12,
   "id": "ad5bdb65",
   "metadata": {},
   "outputs": [
    {
     "name": "stdout",
     "output_type": "stream",
     "text": [
      "Sarsa agent: 36 падений\n"
     ]
    }
   ],
   "source": [
    "for agent_name, agent in [('Sarsa agent', agent)]:\n",
    "    env = gym.make(\"CartPole-v1\")\n",
    "    n_fell = run(env, agent, 10000)\n",
    "    env.close()\n",
    "    print(f'{agent_name}: {n_fell} падений')"
   ]
  },
  {
   "cell_type": "markdown",
   "id": "e28fe0e8",
   "metadata": {},
   "source": [
    "Видно, что количество падений стержня существенно меньше, чем у необученной модели. Да и визуально управление выглядит вполне разумным, хотя и не без изъянов."
   ]
  },
  {
   "cell_type": "markdown",
   "id": "50f5c556",
   "metadata": {},
   "source": [
    "**Задания:**\n",
    "\n",
    "1. У реализованного алгоритма есть несколько параметров: коэффициент дисконтирования, константа обучения, параметр $\\epsilon$-жадной стратегии, параметры плиточного кодирования. Исследуйте влияние этих параметров на скорость обучения и характеристики найденной стратегии.\n",
    "2. Что будет, если в ходе обучения постепенно изменять параметр $\\epsilon$, приближая стратегию выбора действия к жадной.\n",
    "3. На базе класса `CartPoleSarsaAgent` реализуйте агента, использующего алгоритм Q-обучения. Подсказка: для этого достаточно будет изменить две-три строчки. Исследуйте поведение этого агента.\n",
    "4. (**не обязательно, +3 балла**). Одной из причин не особенно впечатляющего поведения реализованного выше агента является то, что он использует только два из параметров, описывающих систему (пусть и самые информативные), из-за чего ему \"тяжело\" идентифицировать ситуацию скольжения тележки и выезда ее за пределы допустимой области, что также вызывает прерывание эпизода. Добавьте в модель признаки, соответствующие положению тележки. Для этого, например, можно расширить плиточное кодирование на третье измерение."
   ]
  }
 ],
 "metadata": {
  "kernelspec": {
   "display_name": "Python 3 (ipykernel)",
   "language": "python",
   "name": "python3"
  },
  "language_info": {
   "codemirror_mode": {
    "name": "ipython",
    "version": 3
   },
   "file_extension": ".py",
   "mimetype": "text/x-python",
   "name": "python",
   "nbconvert_exporter": "python",
   "pygments_lexer": "ipython3",
   "version": "3.9.18"
  }
 },
 "nbformat": 4,
 "nbformat_minor": 5
}
